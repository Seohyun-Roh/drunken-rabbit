{
 "cells": [
  {
   "cell_type": "markdown",
   "id": "4375709d",
   "metadata": {},
   "source": [
    "### 20팀 데이터 분석을 위한 juypter notebook입니다\n",
    "#### 순서는 다음과 같습니다 : \n",
    "\n",
    "1. 와인 데이터\n",
    "2. 미슐랭 레스토랑 데이터\n",
    "3. 알코올 소비 데이터\n",
    "\n",
    "\n",
    "*첫번째는 와인 데이터입니다*\n",
    "와인 데이터의 양이 워낙에 방대(약 13만개)하기에, 저희 프로그램에 맞는 데이터들만을 추려 사용하겠습니다.\n",
    "저희 프로그램은 사용자가 선호하는 맛에 따라서 와인을 추천해야하지만, 현재 데이터에는 다섯가지 기본 맛에 대한 척도는 존재하지 않습니다.\n",
    "그 대신 description에 맛에 대한 묘사가 나와있기에 여러가지 키워드를 사용하여 **문자열 검색**을 통해 맛을 구분하는것을 목적으로 하겠습니다. 또한 와인 품종에 관해서도, 워낙에 많은 품종들이 있기에 red, white를 구분하기 위해서 와인 품종에 red, white과같은 직관적인 단어가 들어가는 경우와 5대 와인 품종인 Cabernet Sauvignon, Merlot, Pinot Noir, chardonnay, Sauvignon Blanc가 들어간 경우만 포함하도록 하겠습니다!\n",
    "\n"
   ]
  },
  {
   "cell_type": "code",
   "execution_count": 397,
   "id": "02e1c2c8",
   "metadata": {},
   "outputs": [],
   "source": [
    "import numpy as np\n",
    "# pandas\n",
    "import pandas as pd \n",
    "# seaborn\n",
    "import seaborn as sns\n",
    "# matplotlib\n",
    "import matplotlib.pyplot as plt\n",
    "import squarify\n",
    "import missingno as msno\n",
    "\n",
    "%matplotlib inline\n",
    "plt.style.use('fivethirtyeight')\n",
    "plt.rcParams.update({'font.size':12})"
   ]
  },
  {
   "cell_type": "markdown",
   "id": "210f9f1b",
   "metadata": {},
   "source": [
    "### (1)Load Dataset"
   ]
  },
  {
   "cell_type": "code",
   "execution_count": 398,
   "id": "cda4d3fe",
   "metadata": {},
   "outputs": [
    {
     "name": "stdout",
     "output_type": "stream",
     "text": [
      "1689623\n",
      "1509300\n"
     ]
    }
   ],
   "source": [
    "wine_alpha =pd.read_csv('./winemag-data-130k-v2.csv', index_col = 0)\n",
    "wine_beta = pd.read_csv('./winemag-data_first150k.csv', index_col = 0)\n",
    "print(wine_alpha.size)\n",
    "print(wine_beta.size)"
   ]
  },
  {
   "cell_type": "markdown",
   "id": "77225819",
   "metadata": {},
   "source": [
    "### 일차적으로는 맛 검색에 유리하게 특정 키워드들이 description field에 포함되어있는 와인들로 추려냅니다"
   ]
  },
  {
   "cell_type": "code",
   "execution_count": 399,
   "id": "213da323",
   "metadata": {},
   "outputs": [
    {
     "name": "stdout",
     "output_type": "stream",
     "text": [
      "175981\n",
      "153820\n"
     ]
    }
   ],
   "source": [
    "searchfor = ['sweetness', 'Semidry', 'moderately tannic', 'light tannic', 'heavy', 'fruity', 'vanila']\n",
    "new_data = wine_alpha[wine_alpha['description'].str.contains('|'.join(searchfor), na = False)]\n",
    "new_data2 = wine_beta[wine_beta['description'].str.contains('|'.join(searchfor), na = False)]\n",
    "print(new_data.size)\n",
    "print(new_data2.size)"
   ]
  },
  {
   "cell_type": "markdown",
   "id": "0aa9d38e",
   "metadata": {},
   "source": [
    "### 두 번째로는 레드, 화이트와인의 구분을 위해 품종에 red, white가 이름에 포함된 품종과 유명 품종(샤르도네 등)\n",
    "### 총 데이터 개수가 13만개 => 1만개로 줄어든 것을 확인할 수 있습니다."
   ]
  },
  {
   "cell_type": "code",
   "execution_count": 400,
   "id": "e0daecee",
   "metadata": {},
   "outputs": [
    {
     "name": "stdout",
     "output_type": "stream",
     "text": [
      "72657\n",
      "=======================\n",
      "64750\n"
     ]
    }
   ],
   "source": [
    "searchfor_type = ['Red', 'White', 'Cabernet Sauvignon', 'Merlot', 'Pinot Noir', 'chardonnay', 'Sauvignon Blanc'] \n",
    "final_data = new_data[new_data['variety'].str.contains('|'.join(searchfor_type), na = False)]\n",
    "final_data2 = new_data2[new_data2['variety'].str.contains('|'.join(searchfor_type), na = False)]\n",
    "print(final_data.size)\n",
    "print(\"=======================\")\n",
    "print(final_data2.size)"
   ]
  },
  {
   "cell_type": "markdown",
   "id": "ae05048a",
   "metadata": {},
   "source": [
    "### 총 13만개의 데이터중에서 12만개를 걸러내고, 약 1만개만의 데이터를 남긴것을 확인할 수 있습니다. "
   ]
  },
  {
   "cell_type": "code",
   "execution_count": 401,
   "id": "2a2387cd",
   "metadata": {},
   "outputs": [
    {
     "name": "stdout",
     "output_type": "stream",
     "text": [
      "87.55949185900877\n",
      "87.35366795366795\n"
     ]
    }
   ],
   "source": [
    "print(final_data['points'].mean())\n",
    "print(final_data2['points'].mean())"
   ]
  },
  {
   "cell_type": "markdown",
   "id": "60fde494",
   "metadata": {},
   "source": [
    "### 와인 점수의 평균은 87.5점입니다. 고품질의 와인만을 제공하기 위해 값이 90점 이상인 와인들만 추천하겠습니다."
   ]
  },
  {
   "cell_type": "code",
   "execution_count": 402,
   "id": "451ad9be",
   "metadata": {},
   "outputs": [],
   "source": [
    "final_data = final_data[(final_data['points'] >= 90)]\n",
    "final_data2 = final_data2[(final_data2['points'] >= 90)]"
   ]
  },
  {
   "cell_type": "markdown",
   "id": "4bffee1e",
   "metadata": {},
   "source": [
    "### 값 또한 중요합니다. 와인의 값이 천차만별이므로 너무 비싸지 않게 병당 1000달러 이내로 제한하겠습니다."
   ]
  },
  {
   "cell_type": "code",
   "execution_count": 403,
   "id": "794a17cc",
   "metadata": {},
   "outputs": [],
   "source": [
    "final_data = final_data[(final_data['price'] <= 1000)]\n",
    "final_data2 = final_data2[(final_data2['price'] <= 1000)]"
   ]
  },
  {
   "cell_type": "markdown",
   "id": "46e46dea",
   "metadata": {},
   "source": [
    "1. 마지막 작업중, final_data에는 title 값(와인의 이름)이 없다는 것을 확인했습니다. 따라서 사용이 힘들것으로 판단됩니다.\n",
    "2. 또한 와인의 이름은 필수적으로 알아야 하므로 마지막으로 와인 이름에 NaN 값이 들어있는 데이터들을 걸러내겠습니다."
   ]
  },
  {
   "cell_type": "markdown",
   "id": "8a17f3f1",
   "metadata": {},
   "source": [
    "### 남은 데이터의 총 개수는 약 1100개입니다."
   ]
  },
  {
   "cell_type": "code",
   "execution_count": 404,
   "id": "608a437e",
   "metadata": {},
   "outputs": [
    {
     "name": "stdout",
     "output_type": "stream",
     "text": [
      "       index   country                                        description  \\\n",
      "0        149        US  Smashed blackberry and blueberry fruit are enh...   \n",
      "1        164     Chile  This blend of Cabernet Sauvignon, Syrah and Me...   \n",
      "2        165     Chile  Dry, briary aromas of field brush, black olive...   \n",
      "3        198        US  This is a soft, well-crafted wine from the eas...   \n",
      "4        214        US  This is a big, brawny expression of Grenache, ...   \n",
      "...      ...       ...                                                ...   \n",
      "1136  129288    France  Ripe, soft and very drinkable, this has a gene...   \n",
      "1137  129305        US  Round and fruity, this mixes sweet berry with ...   \n",
      "1138  129523    France  New wood aromas are still strongly evident in ...   \n",
      "1139  129939   Austria  A true TBA, its very rich, toffee-flavored, in...   \n",
      "1140  129960  Portugal  Fresh and fruity, this is full of red cherry f...   \n",
      "\n",
      "                     designation  points  price          province  \\\n",
      "0              Destruction Level      91   35.0        California   \n",
      "1     Condesa Real Premium Blend      91   29.0  Aconcagua Valley   \n",
      "2                     20 Barrels      91   32.0      Maipo Valley   \n",
      "3              Four Soil Mélange      90   60.0        California   \n",
      "4                          Verah      90   36.0        California   \n",
      "...                          ...     ...    ...               ...   \n",
      "1136                         NaN      90   65.0          Bordeaux   \n",
      "1137                         NaN      90   28.0            Oregon   \n",
      "1138                         NaN      90   28.0          Bordeaux   \n",
      "1139                   Grand Vin      91   70.0        Burgenland   \n",
      "1140                     Vértice      90   48.0             Douro   \n",
      "\n",
      "                         region_1           region_2        taster_name  \\\n",
      "0                        Monterey      Central Coast      Matt Kettmann   \n",
      "1                             NaN                NaN  Michael Schachner   \n",
      "2                             NaN                NaN  Michael Schachner   \n",
      "3                     Napa Valley               Napa     Virginie Boone   \n",
      "4                Dry Creek Valley             Sonoma     Virginie Boone   \n",
      "...                           ...                ...                ...   \n",
      "1136  Castillon Côtes de Bordeaux                NaN         Roger Voss   \n",
      "1137            Willamette Valley  Willamette Valley       Paul Gregutt   \n",
      "1138           Lalande de Pomerol                NaN         Roger Voss   \n",
      "1139                          NaN                NaN         Roger Voss   \n",
      "1140                          NaN                NaN         Roger Voss   \n",
      "\n",
      "     taster_twitter_handle                                              title  \\\n",
      "0            @mattkettmann        Wrath 2013 Destruction Level Red (Monterey)   \n",
      "1              @wineschach  Conde de Velázquez 2012 Condesa Real Premium B...   \n",
      "2              @wineschach  Cono Sur 2012 20 Barrels Cabernet Sauvignon (M...   \n",
      "3                  @vboone  Sequum 2013 Four Soil Mélange Cabernet Sauvign...   \n",
      "4                  @vboone           Mounts 2014 Verah Red (Dry Creek Valley)   \n",
      "...                    ...                                                ...   \n",
      "1136            @vossroger   Domaine de l'A 2012  Castillon Côtes de Bordeaux   \n",
      "1137           @paulgwine       Alchemist 2015 Pinot Noir (Willamette Valley)   \n",
      "1138            @vossroger  Château Vieux Cardinal Lafaurie 2011  Lalande ...   \n",
      "1139            @vossroger  Schloss Halbturn 2004 Grand Vin White (Burgenl...   \n",
      "1140            @vossroger  Caves Transmontanas 2006 Vértice Pinot Noir (D...   \n",
      "\n",
      "                       variety                           winery  \n",
      "0        Rhône-style Red Blend                            Wrath  \n",
      "1                    Red Blend               Conde de Velázquez  \n",
      "2           Cabernet Sauvignon                         Cono Sur  \n",
      "3           Cabernet Sauvignon                           Sequum  \n",
      "4        Rhône-style Red Blend                           Mounts  \n",
      "...                        ...                              ...  \n",
      "1136  Bordeaux-style Red Blend                   Domaine de l'A  \n",
      "1137                Pinot Noir                        Alchemist  \n",
      "1138  Bordeaux-style Red Blend  Château Vieux Cardinal Lafaurie  \n",
      "1139               White Blend                 Schloss Halbturn  \n",
      "1140                Pinot Noir              Caves Transmontanas  \n",
      "\n",
      "[1141 rows x 14 columns]\n"
     ]
    }
   ],
   "source": [
    "new_data_to_export = final_data\n",
    "new_data_to_export = new_data_to_export[new_data_to_export['title'].notnull()]\n",
    "new_data_to_export = new_data_to_export.reset_index()\n",
    "print(new_data_to_export)"
   ]
  },
  {
   "cell_type": "markdown",
   "id": "75b9c8ed",
   "metadata": {},
   "source": [
    "### 완성! 이제 두 번째로 미쉐린 레스토랑 데이터를 concatenate 하겠습니다."
   ]
  },
  {
   "cell_type": "code",
   "execution_count": 405,
   "id": "fc0342b7",
   "metadata": {},
   "outputs": [],
   "source": [
    "michelin_one = pd.read_csv(\"./one-star-michelin-restaurants.csv\") \n",
    "michelin_two = pd.read_csv(\"./two-stars-michelin-restaurants.csv\")\n",
    "michelin_three = pd.read_csv(\"./three-stars-michelin-restaurants.csv\")"
   ]
  },
  {
   "cell_type": "markdown",
   "id": "7fc77473",
   "metadata": {},
   "source": [
    "### 그에 앞서, 가격 정보를 제공하기위해 가격 정보/홈페이지가 NaN인 레스토랑은 드랍 처리 하겠습니다."
   ]
  },
  {
   "cell_type": "code",
   "execution_count": 406,
   "id": "aa407001",
   "metadata": {},
   "outputs": [],
   "source": [
    "michelin_one = michelin_one[(michelin_one['price'].notnull()) & (michelin_one['url'].notnull())]\n",
    "michelin_two = michelin_two[(michelin_two['price'].notnull()) & (michelin_two['url'].notnull())]\n",
    "michelin_three = michelin_three[(michelin_three['price'].notnull()) & (michelin_three['url'].notnull())]"
   ]
  },
  {
   "cell_type": "markdown",
   "id": "e18169df",
   "metadata": {},
   "source": [
    "### 또한 해당 레스토랑이 몇 성인지에 대한 정보가 없기에 one, two, three에 각각 star라는 항목을 추가하여 값을 맞춰주도록 하겠습니다.\n"
   ]
  },
  {
   "cell_type": "code",
   "execution_count": 407,
   "id": "72b025c5",
   "metadata": {},
   "outputs": [],
   "source": [
    "michelin_one[\"star\"] = 1\n",
    "michelin_two[\"star\"] = 2\n",
    "michelin_three[\"star\"] = 3"
   ]
  },
  {
   "cell_type": "markdown",
   "id": "254f01c7",
   "metadata": {},
   "source": [
    "### 이제 마지막으로 세 배열을 concatenate 해주겠습니다. 총 519개의 레스토랑 정보가 저장되었습니다."
   ]
  },
  {
   "cell_type": "code",
   "execution_count": 408,
   "id": "242ba0e5",
   "metadata": {},
   "outputs": [
    {
     "name": "stdout",
     "output_type": "stream",
     "text": [
      "     index                          name  year   latitude  longitude  \\\n",
      "0        0                  Kilian Stuba  2019  47.348580   10.17114   \n",
      "1        1                 Pfefferschiff  2019  47.837870   13.07917   \n",
      "2        2                     Esszimmer  2019  47.806850   13.03409   \n",
      "3        3                    Carpe Diem  2019  47.800010   13.04006   \n",
      "4        4                        Edvard  2019  48.216503   16.36852   \n",
      "..     ...                           ...   ...        ...        ...   \n",
      "514     26                       La Yeon  2019  37.555813  127.00517   \n",
      "515     27                          Gaon  2019  37.522650  127.03595   \n",
      "516     28                      Frantzén  2019  59.334180   18.05812   \n",
      "517     29                     Le Palais  2019  25.049496  121.51674   \n",
      "518     30  The Inn at Little Washington  2019  38.713623  -78.16208   \n",
      "\n",
      "                 city         region zipCode          cuisine  price  \\\n",
      "0      Kleinwalsertal        Austria   87568         Creative  $$$$$   \n",
      "1            Hallwang        Austria    5300  Classic cuisine  $$$$$   \n",
      "2            Salzburg        Austria    5020         Creative  $$$$$   \n",
      "3            Salzburg        Austria    5020   Market cuisine  $$$$$   \n",
      "4                Wien        Austria    1010   Modern cuisine   $$$$   \n",
      "..                ...            ...     ...              ...    ...   \n",
      "514             Seoul    South Korea     NaN           Korean   $$$$   \n",
      "515             Seoul    South Korea     NaN           Korean  $$$$$   \n",
      "516         Stockholm         Sweden  111 22   Modern cuisine   $$$$   \n",
      "517            Taipei         Taipei     110        Cantonese     $$   \n",
      "518  Washington, D.C.  Washington DC   22747         American   $$$$   \n",
      "\n",
      "                                                   url  star  \n",
      "0    https://guide.michelin.com/at/en/vorarlberg/kl...     1  \n",
      "1    https://guide.michelin.com/at/en/salzburg-regi...     1  \n",
      "2    https://guide.michelin.com/at/en/salzburg-regi...     1  \n",
      "3    https://guide.michelin.com/at/en/salzburg-regi...     1  \n",
      "4    https://guide.michelin.com/at/en/vienna/wien/r...     1  \n",
      "..                                                 ...   ...  \n",
      "514  https://guide.michelin.com/kr/en/seoul-capital...     3  \n",
      "515  https://guide.michelin.com/kr/en/seoul-capital...     3  \n",
      "516  https://guide.michelin.com/se/en/stockholm-reg...     3  \n",
      "517  https://guide.michelin.com/tw/en/taipei-region...     3  \n",
      "518  https://guide.michelin.com/us/en/washington/wa...     3  \n",
      "\n",
      "[519 rows x 12 columns]\n"
     ]
    }
   ],
   "source": [
    "final_michelin = pd.concat([michelin_one, michelin_two, michelin_three])\n",
    "final_michelin = final_michelin.reset_index()\n",
    "print(final_michelin)"
   ]
  },
  {
   "cell_type": "markdown",
   "id": "fc3a328e",
   "metadata": {},
   "source": [
    "### 세 번째로 한국인과 외국인의 주류 섭취량을 비교한 그래프를 그려보겠습니다."
   ]
  },
  {
   "cell_type": "code",
   "execution_count": 409,
   "id": "56a5854b",
   "metadata": {},
   "outputs": [],
   "source": [
    "drink = pd.read_csv('./alcohol-consumption-vs-gdp-per-capita.csv')"
   ]
  },
  {
   "cell_type": "code",
   "execution_count": 410,
   "id": "de3ee92e",
   "metadata": {},
   "outputs": [],
   "source": [
    "korea = drink[(drink['Code'] == \"KOR\") & (drink['Total alcohol consumption per capita (liters of pure alcohol, projected estimates, 15+ years of age)'].notnull()) & (drink['Year'] == 2015) ]\n",
    "japan = drink[(drink['Code'] == \"JPN\") & (drink['Total alcohol consumption per capita (liters of pure alcohol, projected estimates, 15+ years of age)'].notnull()) & (drink['Year'] == 2015) ]\n",
    "usa = drink[(drink['Code'] == \"USA\") & (drink['Total alcohol consumption per capita (liters of pure alcohol, projected estimates, 15+ years of age)'].notnull()) & (drink['Year'] == 2015) ]\n",
    "world = drink[(drink['Code'] == \"OWID_WRL\") & (drink['Total alcohol consumption per capita (liters of pure alcohol, projected estimates, 15+ years of age)'].notnull()) & (drink['Year'] == 2015) ]\n",
    "asia = drink[(drink['Entity'] == \"East Asia & Pacific\") & (drink['Total alcohol consumption per capita (liters of pure alcohol, projected estimates, 15+ years of age)'].notnull()) & (drink['Year'] == 2015) ]"
   ]
  },
  {
   "cell_type": "markdown",
   "id": "a686a16d",
   "metadata": {},
   "source": [
    "### 2015년 기준으로 한국, 일본, 세계, 미국, 아시아의 값을 추출해 array를 만들고 비교하겠습니다."
   ]
  },
  {
   "cell_type": "code",
   "execution_count": 411,
   "id": "7a8eb038",
   "metadata": {},
   "outputs": [
    {
     "data": {
      "text/plain": [
       "Text(0, 0.5, 'Alcohol Consumption')"
      ]
     },
     "execution_count": 411,
     "metadata": {},
     "output_type": "execute_result"
    },
    {
     "data": {
      "image/png": "[encoded data removed]",
      "text/plain": [
       "<Figure size 432x288 with 1 Axes>"
      ]
     },
     "metadata": {},
     "output_type": "display_data"
    }
   ],
   "source": [
    "graph_info = pd.concat([korea, japan, usa, world, asia])\n",
    "figure, axx = plt.subplots()\n",
    "axx.plot(graph_info['Entity'], graph_info[\"Total alcohol consumption per capita (liters of pure alcohol, projected estimates, 15+ years of age)\"], label = \"height\")\n",
    "axx.set_xlabel(\"Country\")\n",
    "axx.set_ylabel(\"Alcohol Consumption\")"
   ]
  },
  {
   "cell_type": "markdown",
   "id": "81a797a9",
   "metadata": {},
   "source": [
    "### 보시다시피, 한국이 상대적으로 주류를 많이 소비하는 모습을 볼 수 있습니다."
   ]
  },
  {
   "cell_type": "markdown",
   "id": "657aeced",
   "metadata": {},
   "source": [
    "### 네 번째로 와인의 다양성을 보여주는 그래프들을 그려보겠습니다."
   ]
  },
  {
   "cell_type": "code",
   "execution_count": 412,
   "id": "141709a0",
   "metadata": {},
   "outputs": [
    {
     "data": {
      "text/plain": [
       "<AxesSubplot:>"
      ]
     },
     "execution_count": 412,
     "metadata": {},
     "output_type": "execute_result"
    },
    {
     "data": {
      "image/png": "[encoded data removed]",
      "text/plain": [
       "<Figure size 864x576 with 1 Axes>"
      ]
     },
     "metadata": {},
     "output_type": "display_data"
    }
   ],
   "source": [
    "cnt = new_data_to_export.groupby(['country',])['price'].mean().sort_values(ascending=False).to_frame()\n",
    "plt.figure(figsize=(12,8))\n",
    "squarify.plot(cnt['price'].fillna(0.1),color=sns.color_palette('rainbow'),label=cnt.index)"
   ]
  },
  {
   "cell_type": "code",
   "execution_count": 413,
   "id": "05c32ee5",
   "metadata": {},
   "outputs": [
    {
     "data": {
      "text/plain": [
       "Text(0.5, 1.0, 'Boxplot of price')"
      ]
     },
     "execution_count": 413,
     "metadata": {},
     "output_type": "execute_result"
    },
    {
     "data": {
      "image/png": "[encoded data removed]",
      "text/plain": [
       "<Figure size 1008x432 with 2 Axes>"
      ]
     },
     "metadata": {},
     "output_type": "display_data"
    }
   ],
   "source": [
    "f, ax = plt.subplots(1,2,figsize=(14,6))\n",
    "ax1,ax2 = ax.flatten()\n",
    "sns.histplot(new_data_to_export['price'].fillna(new_data_to_export['price'].mean()),color='r',ax=ax1)\n",
    "ax1.set_title('Distrbution of price')\n",
    "sns.boxplot(x = new_data_to_export['price'], ax=ax2)\n",
    "ax2.set_ylabel('')\n",
    "ax2.set_title('Boxplot of price')"
   ]
  },
  {
   "cell_type": "markdown",
   "id": "a6039591",
   "metadata": {},
   "source": [
    "### 다섯 번째로, 주류 시장의 팽창을 나타내는 그래프를 나타내어 보겠습니다."
   ]
  },
  {
   "cell_type": "code",
   "execution_count": 414,
   "id": "b083b3bd",
   "metadata": {},
   "outputs": [
    {
     "data": {
      "text/plain": [
       "Text(0, 0.5, 'Consumption in Asia')"
      ]
     },
     "execution_count": 414,
     "metadata": {},
     "output_type": "execute_result"
    },
    {
     "data": {
      "image/png": "[encoded data removed]",
      "text/plain": [
       "<Figure size 432x288 with 1 Axes>"
      ]
     },
     "metadata": {},
     "output_type": "display_data"
    }
   ],
   "source": [
    "asia = drink[(drink['Entity'] == \"East Asia & Pacific\") & (drink['Total alcohol consumption per capita (liters of pure alcohol, projected estimates, 15+ years of age)'].notnull())]\n",
    "figure2, axx2 = plt.subplots()\n",
    "axx2.plot([2000, 2005, 2010, 2015, 2018],asia[\"Total alcohol consumption per capita (liters of pure alcohol, projected estimates, 15+ years of age)\"], label = \"height\")\n",
    "axx2.set_xlabel(\"Year\")\n",
    "axx2.set_ylabel(\"Consumption in Asia\")"
   ]
  },
  {
   "cell_type": "markdown",
   "id": "c36aba3d",
   "metadata": {},
   "source": [
    "마지막으로 이 데이터들을 전부 export 해주겠습니다."
   ]
  },
  {
   "cell_type": "code",
   "execution_count": 415,
   "id": "95639c3d",
   "metadata": {},
   "outputs": [],
   "source": [
    "#export required\n",
    "new_data_to_export.to_csv('./wine_data_final.csv')\n",
    "final_michelin.to_csv('./michelin_final.csv')\n",
    "graph_info.to_csv('./korean_consumption_compared.csv')\n",
    "new_data_to_export.to_csv('./wine_data_final.csv')\n",
    "asia.to_csv('./asia_market_expansion.csv')"
   ]
  },
  {
   "cell_type": "markdown",
   "id": "ec7c92d4",
   "metadata": {},
   "source": [
    "## 다들 부족한 코드 읽으시느라 고생하셨습니다! :D 데이터 분석이고 판다스고 다 처음이라 엉망으로 한거같은데 지적사항 언제든지 환영합니다!"
   ]
  },
  {
   "cell_type": "code",
   "execution_count": null,
   "id": "432c23c8",
   "metadata": {},
   "outputs": [],
   "source": []
  }
 ],
 "metadata": {
  "kernelspec": {
   "display_name": "Python 3 (ipykernel)",
   "language": "python",
   "name": "python3"
  },
  "language_info": {
   "codemirror_mode": {
    "name": "ipython",
    "version": 3
   },
   "file_extension": ".py",
   "mimetype": "text/x-python",
   "name": "python",
   "nbconvert_exporter": "python",
   "pygments_lexer": "ipython3",
   "version": "3.9.7"
  }
 },
 "nbformat": 4,
 "nbformat_minor": 5
}
