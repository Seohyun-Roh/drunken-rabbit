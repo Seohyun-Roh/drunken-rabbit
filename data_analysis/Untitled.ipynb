{
 "cells": [
  {
   "cell_type": "markdown",
   "id": "4375709d",
   "metadata": {},
   "source": [
    "### 20팀 데이터 분석을 위한 juypter notebook입니다\n",
    "#### 순서는 다음과 같습니다 : \n",
    "\n",
    "1. 와인 데이터\n",
    "2. 미슐랭 레스토랑 데이터\n",
    "3. 알코올 소비 데이터\n",
    "\n",
    "\n",
    "*첫번째는 와인 데이터입니다*\n",
    "와인 데이터의 양이 워낙에 방대(약 13만개)하기에, 저희 프로그램에 맞는 데이터들만을 추려 사용하겠습니다.\n",
    "저희 프로그램은 사용자가 선호하는 맛에 따라서 와인을 추천해야하지만, 현재 데이터에는 다섯가지 기본 맛에 대한 척도는 존재하지 않습니다.\n",
    "그 대신 description에 맛에 대한 묘사가 나와있기에 여러가지 키워드를 사용하여 **문자열 검색**을 통해 맛을 구분하는것을 목적으로 하겠습니다. 또한 와인 품종에 관해서도, 워낙에 많은 품종들이 있기에 red, white를 구분하기 위해서 와인 품종에 red, white과같은 직관적인 단어가 들어가는 경우와 5대 와인 품종인 Cabernet Sauvignon, Merlot, Pinot Noir, chardonnay, Sauvignon Blanc가 들어간 경우만 포함하도록 하겠습니다!\n",
    "\n"
   ]
  },
  {
   "cell_type": "code",
   "execution_count": 72,
   "id": "02e1c2c8",
   "metadata": {},
   "outputs": [],
   "source": [
    "import numpy as np\n",
    "# pandas\n",
    "import pandas as pd \n",
    "# seaborn\n",
    "import seaborn as sns\n",
    "# matplotlib\n",
    "import matplotlib.pyplot as plt\n",
    "import squarify\n",
    "import missingno as msno\n",
    "from collections import Counter\n",
    "import selenium as sl\n",
    "\n",
    "%matplotlib inline\n",
    "plt.style.use('fivethirtyeight')\n",
    "plt.rcParams.update({'font.size':12})"
   ]
  },
  {
   "cell_type": "markdown",
   "id": "210f9f1b",
   "metadata": {},
   "source": [
    "### (1)Load Dataset"
   ]
  },
  {
   "cell_type": "code",
   "execution_count": 47,
   "id": "cda4d3fe",
   "metadata": {},
   "outputs": [
    {
     "name": "stdout",
     "output_type": "stream",
     "text": [
      "1689623\n",
      "1509300\n"
     ]
    }
   ],
   "source": [
    "wine_alpha =pd.read_csv('./winemag-data-130k-v2.csv', index_col = 0)\n",
    "wine_beta = pd.read_csv('./winemag-data_first150k.csv', index_col = 0)\n",
    "print(wine_alpha.size)\n",
    "print(wine_beta.size)"
   ]
  },
  {
   "cell_type": "code",
   "execution_count": 70,
   "id": "5d524ad3",
   "metadata": {},
   "outputs": [],
   "source": [
    "wine_name = wine_alpha['title']"
   ]
  },
  {
   "cell_type": "code",
   "execution_count": null,
   "id": "966c24b0",
   "metadata": {},
   "outputs": [],
   "source": []
  },
  {
   "cell_type": "code",
   "execution_count": null,
   "id": "61b76a3f",
   "metadata": {},
   "outputs": [],
   "source": []
  },
  {
   "cell_type": "code",
   "execution_count": null,
   "id": "a1856115",
   "metadata": {},
   "outputs": [],
   "source": []
  },
  {
   "cell_type": "markdown",
   "id": "77225819",
   "metadata": {},
   "source": [
    "### 일차적으로는 맛 검색에 유리하게 특정 키워드들이 description field에 포함되어있는 와인들로 추려냅니다"
   ]
  },
  {
   "cell_type": "code",
   "execution_count": 55,
   "id": "213da323",
   "metadata": {},
   "outputs": [
    {
     "name": "stdout",
     "output_type": "stream",
     "text": [
      "175981\n",
      "153820\n"
     ]
    }
   ],
   "source": [
    "searchfor = ['sweetness', 'Semidry', 'moderately tannic', 'light tannic', 'heavy', 'fruity', 'vanila']\n",
    "#어떤 키워드가 많이 들어갔는지 확인 후 상위 키워드만 검색하자\n",
    "#현재 상위 키워드 디스코드에 업데이트 해놓았습니다! 보시고 괜찮은 단어들로 searchfor에 넣으면 될 것 같아요!\n",
    "new_data = wine_alpha[wine_alpha['description'].str.contains('|'.join(searchfor), na = False)]\n",
    "new_data2 = wine_beta[wine_beta['description'].str.contains('|'.join(searchfor), na = False)]\n",
    "print(new_data.size)\n",
    "print(new_data2.size)"
   ]
  },
  {
   "cell_type": "markdown",
   "id": "0aa9d38e",
   "metadata": {},
   "source": [
    "### 두 번째로는 레드, 화이트와인의 구분을 위해 품종에 red, white가 이름에 포함된 품종과 유명 품종(샤르도네 등)\n",
    "### 총 데이터 개수가 13만개 => 1만개로 줄어든 것을 확인할 수 있습니다."
   ]
  },
  {
   "cell_type": "code",
   "execution_count": 49,
   "id": "e0daecee",
   "metadata": {},
   "outputs": [
    {
     "name": "stdout",
     "output_type": "stream",
     "text": [
      "737724\n",
      "=======================\n",
      "666990\n"
     ]
    }
   ],
   "source": [
    "searchfor_type = ['Red', 'White', 'Cabernet Sauvignon', 'Merlot', 'Pinot Noir', 'chardonnay', 'Sauvignon Blanc'] \n",
    "final_data = new_data[new_data['variety'].str.contains('|'.join(searchfor_type), na = False)]\n",
    "final_data2 = new_data2[new_data2['variety'].str.contains('|'.join(searchfor_type), na = False)]\n",
    "print(final_data.size)\n",
    "print(\"=======================\")\n",
    "print(final_data2.size)"
   ]
  },
  {
   "cell_type": "markdown",
   "id": "ae05048a",
   "metadata": {},
   "source": [
    "### 총 13만개의 데이터중에서 12만개를 걸러내고, 약 1만개만의 데이터를 남긴것을 확인할 수 있습니다. "
   ]
  },
  {
   "cell_type": "code",
   "execution_count": 50,
   "id": "2a2387cd",
   "metadata": {},
   "outputs": [
    {
     "name": "stdout",
     "output_type": "stream",
     "text": [
      "88.56555297102982\n",
      "88.09024123300199\n"
     ]
    }
   ],
   "source": [
    "print(final_data['points'].mean())\n",
    "print(final_data2['points'].mean())"
   ]
  },
  {
   "cell_type": "markdown",
   "id": "60fde494",
   "metadata": {},
   "source": [
    "### 와인 점수의 평균은 87.5점입니다. 고품질의 와인만을 제공하기 위해 값이 90점 이상인 와인들만 추천하겠습니다."
   ]
  },
  {
   "cell_type": "code",
   "execution_count": 51,
   "id": "451ad9be",
   "metadata": {},
   "outputs": [],
   "source": [
    "final_data = final_data[(final_data['points'] >= 90)]\n",
    "final_data2 = final_data2[(final_data2['points'] >= 90)]"
   ]
  },
  {
   "cell_type": "code",
   "execution_count": 56,
   "id": "b6c33795",
   "metadata": {},
   "outputs": [
    {
     "name": "stdout",
     "output_type": "stream",
     "text": [
      "and 68103\n",
      "the 36446\n",
      "of 35012\n",
      "a 29584\n",
      "with 20531\n",
      "is 19184\n",
      "this 14557\n",
      "in 13525\n",
      "wine 12467\n",
      "to 11129\n",
      "from 8547\n",
      "The 8473\n",
      "black 7559\n",
      "it 7493\n",
      "on 7135\n",
      "that 7098\n",
      "flavors 6236\n",
      "fruit 5918\n",
      "tannins 5185\n",
      "It 4930\n",
      "are 4924\n",
      "for 4795\n",
      "but 4677\n",
      "has 4567\n",
      "Drink 4561\n",
      "by 4298\n",
      "Cabernet 4129\n",
      "ripe 4100\n",
      "its 4023\n",
      "cherry 3971\n",
      "as 3908\n",
      "aromas 3832\n",
      "It's 3732\n",
      "blend 3582\n",
      "red 3334\n",
      "rich 3266\n",
      "palate 3218\n",
      "through 3101\n",
      "acidity 3016\n",
      "an 2932\n",
      "dark 2909\n",
      "wine, 2647\n",
      "shows 2387\n",
      "at 2278\n",
      "cherry, 2228\n",
      "will 2209\n",
      "notes 2208\n",
      "spice 2171\n",
      "This 2169\n",
      "it's 2075\n",
      "well 2055\n",
      "blackberry 1936\n",
      "firm 1919\n",
      "plum 1864\n",
      "oak 1859\n",
      "offers 1858\n",
      "tannins. 1796\n",
      "wine. 1764\n",
      "fruits 1759\n",
      "more 1758\n",
      "finish 1743\n",
      "fruit, 1732\n",
      "into 1724\n",
      "very 1697\n",
      "flavors. 1692\n",
      "Sauvignon 1657\n",
      "all 1622\n",
      "full 1611\n",
      "A 1609\n",
      "dried 1606\n",
      "juicy 1588\n",
      "berry 1577\n",
      "while 1563\n",
      "Pinot 1562\n",
      "be 1529\n",
      "nose 1522\n",
      "chocolate 1492\n",
      "structure 1467\n",
      "fresh 1463\n",
      "texture 1461\n",
      "drink 1440\n",
      "great 1433\n",
      "fine 1427\n",
      "palate, 1426\n",
      "concentrated 1399\n",
      "dense 1397\n",
      "flavors, 1379\n",
      "over 1371\n",
      "sweet 1367\n",
      "now 1340\n",
      "new 1318\n",
      "raspberry 1316\n",
      "acidity. 1296\n",
      "fruit. 1273\n",
      "still 1270\n",
      "complex 1256\n",
      "wood 1251\n",
      "some 1248\n",
      "also 1239\n",
      "dry 1236\n",
      "out 1225\n",
      "good 1213\n",
      "finish. 1209\n",
      "yet 1199\n",
      "Merlot 1197\n",
      "should 1192\n",
      "so 1188\n",
      "balanced 1185\n",
      "up 1170\n",
      "soft 1134\n",
      "vineyard 1131\n",
      "rich, 1127\n",
      "or 1123\n",
      "structured 1119\n",
      "which 1107\n",
      "blackberry, 1103\n",
      "age 1074\n",
      "white 1071\n",
      "not 1063\n",
      "touch 1058\n",
      "cassis 1049\n",
      "vanilla 1049\n",
      "spicy 1048\n",
      "one 1034\n",
      "ripe, 1022\n",
      "currant 1016\n",
      "years 1008\n",
      "just 1003\n",
      "tannic 1001\n",
      "pepper 993\n",
      "now, 989\n",
      "tannins, 980\n",
      "Sauvignon, 978\n",
      "Petit 963\n",
      "delicious 958\n",
      "long 957\n",
      "along 945\n",
      "licorice 932\n",
      "give 929\n",
      "balance 926\n",
      "elegant 925\n",
      "light 922\n",
      "smoky 912\n",
      "smooth 910\n",
      "bright 906\n",
      "time 903\n",
      "savory 889\n",
      "plum, 846\n",
      "full-bodied 843\n",
      "aging 842\n",
      "next 840\n",
      "after 838\n",
      "showing 831\n",
      "powerful 824\n",
      "like 808\n",
      "than 795\n",
      "best 791\n",
      "layers 789\n",
      "crisp 785\n",
      "spice, 771\n",
      "herb 764\n",
      "comes 764\n",
      "core 761\n",
      "show 754\n",
      "oak. 750\n",
      "generous 745\n",
      "that's 744\n",
      "wild 742\n",
      "cranberry 737\n",
      "Merlot, 736\n",
      "lead 731\n",
      "tobacco 729\n",
      "delivers 729\n",
      "character 727\n",
      "tart 726\n",
      "fruits. 724\n",
      "cherries, 724\n",
      "needs 722\n",
      "opens 721\n",
      "earthy 711\n",
      "With 710\n",
      "bottling 710\n",
      "develop 709\n",
      "acidity, 706\n",
      "solid 706\n",
      "young 700\n",
      "herbal 699\n",
      "you 694\n",
      "barrel 693\n",
      "cola 689\n",
      "fruits, 688\n",
      "hints 687\n",
      "intense 684\n",
      "velvety 678\n",
      "richness 666\n",
      "both 662\n",
      "oak, 660\n",
      "chocolate, 660\n",
      "clove 660\n",
      "plenty 658\n"
     ]
    }
   ],
   "source": [
    "text = final_data['description']\n",
    "text_str = \"\"\n",
    "for i in text :\n",
    "    text_str += i\n",
    "text_arr =  text_str.strip('.,').split(\" \")\n",
    "for w, c in Counter(text_arr).most_common(200) :\n",
    "    print(w, c)\n"
   ]
  },
  {
   "cell_type": "markdown",
   "id": "4bffee1e",
   "metadata": {},
   "source": [
    "### 값 또한 중요합니다. 와인의 값이 천차만별이므로 너무 비싸지 않게 병당 1000달러 이내로 제한하겠습니다."
   ]
  },
  {
   "cell_type": "code",
   "execution_count": 57,
   "id": "794a17cc",
   "metadata": {},
   "outputs": [],
   "source": [
    "final_data = final_data[(final_data['price'] <= 1000)]\n",
    "final_data2 = final_data2[(final_data2['price'] <= 1000)]"
   ]
  },
  {
   "cell_type": "markdown",
   "id": "46e46dea",
   "metadata": {},
   "source": [
    "1. 마지막 작업중, final_data에는 title 값(와인의 이름)이 없다는 것을 확인했습니다. 따라서 사용이 힘들것으로 판단됩니다.\n",
    "2. 또한 와인의 이름은 필수적으로 알아야 하므로 마지막으로 와인 이름에 NaN 값이 들어있는 데이터들을 걸러내겠습니다."
   ]
  },
  {
   "cell_type": "markdown",
   "id": "8a17f3f1",
   "metadata": {},
   "source": [
    "### 남은 데이터의 총 개수는 약 1100개입니다."
   ]
  },
  {
   "cell_type": "code",
   "execution_count": 58,
   "id": "608a437e",
   "metadata": {},
   "outputs": [
    {
     "name": "stdout",
     "output_type": "stream",
     "text": [
      "        index       country  \\\n",
      "0         123     Australia   \n",
      "1         124            US   \n",
      "2         125  South Africa   \n",
      "3         127        France   \n",
      "4         129  South Africa   \n",
      "...       ...           ...   \n",
      "20620  129956   New Zealand   \n",
      "20621  129958   New Zealand   \n",
      "20622  129960      Portugal   \n",
      "20623  129963        Israel   \n",
      "20624  129967            US   \n",
      "\n",
      "                                             description  \\\n",
      "0      The blend is roughly two-thirds Shiraz and one...   \n",
      "1      This sophisticated wine is mostly Cabernet Sau...   \n",
      "2      Etienne Le Riche is a total Cabernet specialis...   \n",
      "3      Attractive mid-gold color with intense aromas ...   \n",
      "4      A big, black bruiser of a wine that has black ...   \n",
      "...                                                  ...   \n",
      "20620  The blend is 44% Merlot, 33% Cabernet Sauvigno...   \n",
      "20621  This blend of Cabernet Sauvignon-Merlot and Ca...   \n",
      "20622  Fresh and fruity, this is full of red cherry f...   \n",
      "20623  A bouquet of black cherry, tart cranberry and ...   \n",
      "20624  Citation is given as much as a decade of bottl...   \n",
      "\n",
      "                                             designation  points  price  \\\n",
      "0                                          Parson's Flat      92   40.0   \n",
      "1                                                    NaN      92   45.0   \n",
      "2                             Cabernet Sauvignon Reserve      91   45.0   \n",
      "3                                             Alsace One      91   13.0   \n",
      "4                                    Philosophers' Stone      91   25.0   \n",
      "...                                                  ...     ...    ...   \n",
      "20620  Gimblett Gravels Merlot-Cabernet Sauvignon-Malbec      90   19.0   \n",
      "20621                                           Irongate      90   35.0   \n",
      "20622                                            Vértice      90   48.0   \n",
      "20623                                           Oak Aged      90   20.0   \n",
      "20624                                                NaN      90   75.0   \n",
      "\n",
      "              province     region_1      region_2     taster_name  \\\n",
      "0      South Australia    Padthaway           NaN  Joe Czerwinski   \n",
      "1           California  Napa Valley          Napa             NaN   \n",
      "2         Stellenbosch          NaN           NaN      Roger Voss   \n",
      "3               Alsace       Alsace           NaN             NaN   \n",
      "4         Stellenbosch          NaN           NaN             NaN   \n",
      "...                ...          ...           ...             ...   \n",
      "20620      Hawke's Bay          NaN           NaN  Joe Czerwinski   \n",
      "20621      Hawke's Bay          NaN           NaN  Joe Czerwinski   \n",
      "20622            Douro          NaN           NaN      Roger Voss   \n",
      "20623          Galilee          NaN           NaN   Mike DeSimone   \n",
      "20624           Oregon       Oregon  Oregon Other    Paul Gregutt   \n",
      "\n",
      "      taster_twitter_handle  \\\n",
      "0                    @JoeCz   \n",
      "1                       NaN   \n",
      "2                @vossroger   \n",
      "3                       NaN   \n",
      "4                       NaN   \n",
      "...                     ...   \n",
      "20620                @JoeCz   \n",
      "20621                @JoeCz   \n",
      "20622            @vossroger   \n",
      "20623        @worldwineguys   \n",
      "20624           @paulgwine    \n",
      "\n",
      "                                                   title  \\\n",
      "0      Henry's Drive Vignerons 2006 Parson's Flat Shi...   \n",
      "1        Silverado 2006 Cabernet Sauvignon (Napa Valley)   \n",
      "2      Le Riche 2003 Cabernet Sauvignon Reserve Caber...   \n",
      "3            Pierre Sparr 2008 Alsace One White (Alsace)   \n",
      "4      Camberley 2004 Philosophers' Stone Red (Stelle...   \n",
      "...                                                  ...   \n",
      "20620  Esk Valley 2011 Gimblett Gravels Merlot-Cabern...   \n",
      "20621             Babich 2010 Irongate Red (Hawke's Bay)   \n",
      "20622  Caves Transmontanas 2006 Vértice Pinot Noir (D...   \n",
      "20623  Dalton 2012 Oak Aged Cabernet Sauvignon (Galilee)   \n",
      "20624                  Citation 2004 Pinot Noir (Oregon)   \n",
      "\n",
      "                         variety                   winery  \n",
      "0      Shiraz-Cabernet Sauvignon  Henry's Drive Vignerons  \n",
      "1             Cabernet Sauvignon                Silverado  \n",
      "2             Cabernet Sauvignon                 Le Riche  \n",
      "3                    White Blend             Pierre Sparr  \n",
      "4       Bordeaux-style Red Blend                Camberley  \n",
      "...                          ...                      ...  \n",
      "20620   Bordeaux-style Red Blend               Esk Valley  \n",
      "20621   Bordeaux-style Red Blend                   Babich  \n",
      "20622                 Pinot Noir      Caves Transmontanas  \n",
      "20623         Cabernet Sauvignon                   Dalton  \n",
      "20624                 Pinot Noir                 Citation  \n",
      "\n",
      "[20625 rows x 14 columns]\n"
     ]
    }
   ],
   "source": [
    "new_data_to_export = final_data\n",
    "new_data_to_export = new_data_to_export[new_data_to_export['title'].notnull()]\n",
    "new_data_to_export = new_data_to_export.reset_index()\n",
    "print(new_data_to_export)"
   ]
  },
  {
   "cell_type": "markdown",
   "id": "75b9c8ed",
   "metadata": {},
   "source": [
    "### 완성! 이제 두 번째로 미쉐린 레스토랑 데이터를 concatenate 하겠습니다."
   ]
  },
  {
   "cell_type": "code",
   "execution_count": 59,
   "id": "fc0342b7",
   "metadata": {},
   "outputs": [],
   "source": [
    "michelin_one = pd.read_csv(\"./one-star-michelin-restaurants.csv\") \n",
    "michelin_two = pd.read_csv(\"./two-stars-michelin-restaurants.csv\")\n",
    "michelin_three = pd.read_csv(\"./three-stars-michelin-restaurants.csv\")"
   ]
  },
  {
   "cell_type": "markdown",
   "id": "7fc77473",
   "metadata": {},
   "source": [
    "### 그에 앞서, 가격 정보를 제공하기위해 가격 정보/홈페이지가 NaN인 레스토랑은 드랍 처리 하겠습니다."
   ]
  },
  {
   "cell_type": "code",
   "execution_count": 60,
   "id": "aa407001",
   "metadata": {},
   "outputs": [],
   "source": [
    "michelin_one = michelin_one[(michelin_one['price'].notnull()) & (michelin_one['url'].notnull())]\n",
    "michelin_two = michelin_two[(michelin_two['price'].notnull()) & (michelin_two['url'].notnull())]\n",
    "michelin_three = michelin_three[(michelin_three['price'].notnull()) & (michelin_three['url'].notnull())]"
   ]
  },
  {
   "cell_type": "markdown",
   "id": "e18169df",
   "metadata": {},
   "source": [
    "### 또한 해당 레스토랑이 몇 성인지에 대한 정보가 없기에 one, two, three에 각각 star라는 항목을 추가하여 값을 맞춰주도록 하겠습니다.\n"
   ]
  },
  {
   "cell_type": "code",
   "execution_count": 61,
   "id": "72b025c5",
   "metadata": {},
   "outputs": [],
   "source": [
    "michelin_one[\"star\"] = 1\n",
    "michelin_two[\"star\"] = 2\n",
    "michelin_three[\"star\"] = 3"
   ]
  },
  {
   "cell_type": "markdown",
   "id": "254f01c7",
   "metadata": {},
   "source": [
    "### 이제 마지막으로 세 배열을 concatenate 해주겠습니다. 총 519개의 레스토랑 정보가 저장되었습니다."
   ]
  },
  {
   "cell_type": "code",
   "execution_count": 62,
   "id": "242ba0e5",
   "metadata": {},
   "outputs": [
    {
     "name": "stdout",
     "output_type": "stream",
     "text": [
      "     index                          name  year   latitude  longitude  \\\n",
      "0        0                  Kilian Stuba  2019  47.348580   10.17114   \n",
      "1        1                 Pfefferschiff  2019  47.837870   13.07917   \n",
      "2        2                     Esszimmer  2019  47.806850   13.03409   \n",
      "3        3                    Carpe Diem  2019  47.800010   13.04006   \n",
      "4        4                        Edvard  2019  48.216503   16.36852   \n",
      "..     ...                           ...   ...        ...        ...   \n",
      "514     26                       La Yeon  2019  37.555813  127.00517   \n",
      "515     27                          Gaon  2019  37.522650  127.03595   \n",
      "516     28                      Frantzén  2019  59.334180   18.05812   \n",
      "517     29                     Le Palais  2019  25.049496  121.51674   \n",
      "518     30  The Inn at Little Washington  2019  38.713623  -78.16208   \n",
      "\n",
      "                 city         region zipCode          cuisine  price  \\\n",
      "0      Kleinwalsertal        Austria   87568         Creative  $$$$$   \n",
      "1            Hallwang        Austria    5300  Classic cuisine  $$$$$   \n",
      "2            Salzburg        Austria    5020         Creative  $$$$$   \n",
      "3            Salzburg        Austria    5020   Market cuisine  $$$$$   \n",
      "4                Wien        Austria    1010   Modern cuisine   $$$$   \n",
      "..                ...            ...     ...              ...    ...   \n",
      "514             Seoul    South Korea     NaN           Korean   $$$$   \n",
      "515             Seoul    South Korea     NaN           Korean  $$$$$   \n",
      "516         Stockholm         Sweden  111 22   Modern cuisine   $$$$   \n",
      "517            Taipei         Taipei     110        Cantonese     $$   \n",
      "518  Washington, D.C.  Washington DC   22747         American   $$$$   \n",
      "\n",
      "                                                   url  star  \n",
      "0    https://guide.michelin.com/at/en/vorarlberg/kl...     1  \n",
      "1    https://guide.michelin.com/at/en/salzburg-regi...     1  \n",
      "2    https://guide.michelin.com/at/en/salzburg-regi...     1  \n",
      "3    https://guide.michelin.com/at/en/salzburg-regi...     1  \n",
      "4    https://guide.michelin.com/at/en/vienna/wien/r...     1  \n",
      "..                                                 ...   ...  \n",
      "514  https://guide.michelin.com/kr/en/seoul-capital...     3  \n",
      "515  https://guide.michelin.com/kr/en/seoul-capital...     3  \n",
      "516  https://guide.michelin.com/se/en/stockholm-reg...     3  \n",
      "517  https://guide.michelin.com/tw/en/taipei-region...     3  \n",
      "518  https://guide.michelin.com/us/en/washington/wa...     3  \n",
      "\n",
      "[519 rows x 12 columns]\n"
     ]
    }
   ],
   "source": [
    "final_michelin = pd.concat([michelin_one, michelin_two, michelin_three])\n",
    "final_michelin = final_michelin.reset_index()\n",
    "print(final_michelin)"
   ]
  },
  {
   "cell_type": "markdown",
   "id": "fc3a328e",
   "metadata": {},
   "source": [
    "### 세 번째로 한국인과 외국인의 주류 섭취량을 비교한 그래프를 그려보겠습니다."
   ]
  },
  {
   "cell_type": "code",
   "execution_count": 63,
   "id": "56a5854b",
   "metadata": {},
   "outputs": [],
   "source": [
    "drink = pd.read_csv('./alcohol-consumption-vs-gdp-per-capita.csv')"
   ]
  },
  {
   "cell_type": "code",
   "execution_count": 64,
   "id": "de3ee92e",
   "metadata": {},
   "outputs": [],
   "source": [
    "korea = drink[(drink['Code'] == \"KOR\") & (drink['Total alcohol consumption per capita (liters of pure alcohol, projected estimates, 15+ years of age)'].notnull()) & (drink['Year'] == 2015) ]\n",
    "japan = drink[(drink['Code'] == \"JPN\") & (drink['Total alcohol consumption per capita (liters of pure alcohol, projected estimates, 15+ years of age)'].notnull()) & (drink['Year'] == 2015) ]\n",
    "usa = drink[(drink['Code'] == \"USA\") & (drink['Total alcohol consumption per capita (liters of pure alcohol, projected estimates, 15+ years of age)'].notnull()) & (drink['Year'] == 2015) ]\n",
    "world = drink[(drink['Code'] == \"OWID_WRL\") & (drink['Total alcohol consumption per capita (liters of pure alcohol, projected estimates, 15+ years of age)'].notnull()) & (drink['Year'] == 2015) ]\n",
    "asia = drink[(drink['Entity'] == \"East Asia & Pacific\") & (drink['Total alcohol consumption per capita (liters of pure alcohol, projected estimates, 15+ years of age)'].notnull()) & (drink['Year'] == 2015) ]"
   ]
  },
  {
   "cell_type": "markdown",
   "id": "a686a16d",
   "metadata": {},
   "source": [
    "### 2015년 기준으로 한국, 일본, 세계, 미국, 아시아의 값을 추출해 array를 만들고 비교하겠습니다."
   ]
  },
  {
   "cell_type": "code",
   "execution_count": 65,
   "id": "7a8eb038",
   "metadata": {},
   "outputs": [
    {
     "data": {
      "text/plain": [
       "Text(0, 0.5, 'Alcohol Consumption')"
      ]
     },
     "execution_count": 65,
     "metadata": {},
     "output_type": "execute_result"
    },
    {
     "data": {
      "image/png": "[encoded data removed]",
      "text/plain": [
       "<Figure size 432x288 with 1 Axes>"
      ]
     },
     "metadata": {},
     "output_type": "display_data"
    }
   ],
   "source": [
    "graph_info = pd.concat([korea, japan, usa, world, asia])\n",
    "figure, axx = plt.subplots()\n",
    "axx.plot(graph_info['Entity'], graph_info[\"Total alcohol consumption per capita (liters of pure alcohol, projected estimates, 15+ years of age)\"], label = \"height\")\n",
    "axx.set_xlabel(\"Country\")\n",
    "axx.set_ylabel(\"Alcohol Consumption\")"
   ]
  },
  {
   "cell_type": "markdown",
   "id": "81a797a9",
   "metadata": {},
   "source": [
    "### 보시다시피, 한국이 상대적으로 주류를 많이 소비하는 모습을 볼 수 있습니다."
   ]
  },
  {
   "cell_type": "markdown",
   "id": "657aeced",
   "metadata": {},
   "source": [
    "### 네 번째로 와인의 다양성을 보여주는 그래프들을 그려보겠습니다."
   ]
  },
  {
   "cell_type": "code",
   "execution_count": 66,
   "id": "141709a0",
   "metadata": {
    "scrolled": true
   },
   "outputs": [
    {
     "data": {
      "text/plain": [
       "<AxesSubplot:>"
      ]
     },
     "execution_count": 66,
     "metadata": {},
     "output_type": "execute_result"
    },
    {
     "data": {
      "image/png": "[encoded data removed]",
      "text/plain": [
       "<Figure size 864x576 with 1 Axes>"
      ]
     },
     "metadata": {},
     "output_type": "display_data"
    }
   ],
   "source": [
    "cnt = new_data_to_export.groupby(['country',])['price'].mean().sort_values(ascending=False).to_frame()\n",
    "plt.figure(figsize=(12,8))\n",
    "squarify.plot(cnt['price'].fillna(0.1),color=sns.color_palette('rainbow'),label=cnt.index)"
   ]
  },
  {
   "cell_type": "code",
   "execution_count": 67,
   "id": "05c32ee5",
   "metadata": {},
   "outputs": [
    {
     "data": {
      "text/plain": [
       "Text(0.5, 1.0, 'Boxplot of price')"
      ]
     },
     "execution_count": 67,
     "metadata": {},
     "output_type": "execute_result"
    },
    {
     "data": {
      "image/png": "[encoded data removed]",
      "text/plain": [
       "<Figure size 1008x432 with 2 Axes>"
      ]
     },
     "metadata": {},
     "output_type": "display_data"
    }
   ],
   "source": [
    "f, ax = plt.subplots(1,2,figsize=(14,6))\n",
    "ax1,ax2 = ax.flatten()\n",
    "sns.histplot(new_data_to_export['price'].fillna(new_data_to_export['price'].mean()),color='r',ax=ax1)\n",
    "ax1.set_title('Distrbution of price')\n",
    "sns.boxplot(x = new_data_to_export['price'], ax=ax2)\n",
    "ax2.set_ylabel('')\n",
    "ax2.set_title('Boxplot of price')"
   ]
  },
  {
   "cell_type": "markdown",
   "id": "a6039591",
   "metadata": {},
   "source": [
    "### 다섯 번째로, 주류 시장의 팽창을 나타내는 그래프를 나타내어 보겠습니다."
   ]
  },
  {
   "cell_type": "code",
   "execution_count": 68,
   "id": "b083b3bd",
   "metadata": {},
   "outputs": [
    {
     "data": {
      "text/plain": [
       "Text(0, 0.5, 'Consumption in Asia')"
      ]
     },
     "execution_count": 68,
     "metadata": {},
     "output_type": "execute_result"
    },
    {
     "data": {
      "image/png": "[encoded data removed]",
      "text/plain": [
       "<Figure size 432x288 with 1 Axes>"
      ]
     },
     "metadata": {},
     "output_type": "display_data"
    }
   ],
   "source": [
    "asia = drink[(drink['Entity'] == \"East Asia & Pacific\") & (drink['Total alcohol consumption per capita (liters of pure alcohol, projected estimates, 15+ years of age)'].notnull())]\n",
    "figure2, axx2 = plt.subplots()\n",
    "axx2.plot([2000, 2005, 2010, 2015, 2018],asia[\"Total alcohol consumption per capita (liters of pure alcohol, projected estimates, 15+ years of age)\"], label = \"height\")\n",
    "axx2.set_xlabel(\"Year\")\n",
    "axx2.set_ylabel(\"Consumption in Asia\")"
   ]
  },
  {
   "cell_type": "markdown",
   "id": "c36aba3d",
   "metadata": {},
   "source": [
    "마지막으로 이 데이터들을 전부 export 해주겠습니다."
   ]
  },
  {
   "cell_type": "code",
   "execution_count": 69,
   "id": "95639c3d",
   "metadata": {},
   "outputs": [],
   "source": [
    "#export required\n",
    "new_data_to_export.to_csv('./wine_data_final.csv') #와인데이터 줄인거\n",
    "final_michelin.to_csv('./michelin_final.csv') #미슐랭데이터 합친거\n",
    "graph_info.to_csv('./korean_consumption_compared.csv') #한국이랑 다른나라 비교 데이터\n",
    "new_data_to_export.to_csv('./wine_data_final.csv')\n",
    "asia.to_csv('./asia_market_expansion.csv') #아시아 시장의 팽창 데이터"
   ]
  },
  {
   "cell_type": "markdown",
   "id": "ec7c92d4",
   "metadata": {},
   "source": [
    "## 다들 부족한 코드 읽으시느라 고생하셨습니다! :D 데이터 분석이고 판다스고 다 처음이라 엉망으로 한거같은데 지적사항 언제든지 환영합니다!"
   ]
  },
  {
   "cell_type": "code",
   "execution_count": null,
   "id": "432c23c8",
   "metadata": {},
   "outputs": [],
   "source": []
  }
 ],
 "metadata": {
  "kernelspec": {
   "display_name": "Python 3 (ipykernel)",
   "language": "python",
   "name": "python3"
  },
  "language_info": {
   "codemirror_mode": {
    "name": "ipython",
    "version": 3
   },
   "file_extension": ".py",
   "mimetype": "text/x-python",
   "name": "python",
   "nbconvert_exporter": "python",
   "pygments_lexer": "ipython3",
   "version": "3.9.7"
  }
 },
 "nbformat": 4,
 "nbformat_minor": 5
}
